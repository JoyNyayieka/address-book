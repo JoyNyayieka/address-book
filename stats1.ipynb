{
 "cells": [
  {
   "cell_type": "code",
   "execution_count": 1,
   "id": "5bcb8934",
   "metadata": {
    "_execution_state": "idle",
    "_uuid": "051d70d956493feee0c6d64651c6a088724dca2a",
    "execution": {
     "iopub.execute_input": "2022-03-25T16:49:08.857174Z",
     "iopub.status.busy": "2022-03-25T16:49:08.855219Z",
     "iopub.status.idle": "2022-03-25T16:49:10.005134Z",
     "shell.execute_reply": "2022-03-25T16:49:10.004011Z",
     "shell.execute_reply.started": "2022-03-25T16:28:55.335927Z"
    },
    "papermill": {
     "duration": 1.166059,
     "end_time": "2022-03-25T16:49:10.005416",
     "exception": false,
     "start_time": "2022-03-25T16:49:08.839357",
     "status": "completed"
    },
    "tags": []
   },
   "outputs": [],
   "source": [
    "#This series of code imports the various libraries that we will use for the project\n",
    "import numpy as np\n",
    "import pandas as pd\n",
    "import seaborn as sns"
   ]
  },
  {
   "cell_type": "code",
   "execution_count": 2,
   "id": "710ef90e",
   "metadata": {
    "execution": {
     "iopub.execute_input": "2022-03-25T16:49:10.024508Z",
     "iopub.status.busy": "2022-03-25T16:49:10.023673Z",
     "iopub.status.idle": "2022-03-25T16:49:10.027545Z",
     "shell.execute_reply": "2022-03-25T16:49:10.028145Z",
     "shell.execute_reply.started": "2022-03-25T16:28:55.671633Z"
    },
    "papermill": {
     "duration": 0.015448,
     "end_time": "2022-03-25T16:49:10.028394",
     "exception": false,
     "start_time": "2022-03-25T16:49:10.012946",
     "status": "completed"
    },
    "tags": []
   },
   "outputs": [],
   "source": [
    "#code for importing the library that will help in plotting the graph\n",
    "from matplotlib import pyplot as plt"
   ]
  },
  {
   "cell_type": "code",
   "execution_count": 3,
   "id": "96b5652a",
   "metadata": {
    "execution": {
     "iopub.execute_input": "2022-03-25T16:49:10.046235Z",
     "iopub.status.busy": "2022-03-25T16:49:10.045086Z",
     "iopub.status.idle": "2022-03-25T16:49:10.066597Z",
     "shell.execute_reply": "2022-03-25T16:49:10.065959Z",
     "shell.execute_reply.started": "2022-03-25T16:28:56.273482Z"
    },
    "papermill": {
     "duration": 0.032401,
     "end_time": "2022-03-25T16:49:10.066779",
     "exception": false,
     "start_time": "2022-03-25T16:49:10.034378",
     "status": "completed"
    },
    "tags": []
   },
   "outputs": [],
   "source": [
    "#uploading the .csv files to our code\n",
    "year = pd.read_csv(\"../input/unemploymentrates/unemploymentRate - Sheet1.csv\",encoding=\"ISO-8859-1\")"
   ]
  },
  {
   "cell_type": "code",
   "execution_count": 4,
   "id": "2837a4b6",
   "metadata": {
    "execution": {
     "iopub.execute_input": "2022-03-25T16:49:10.083982Z",
     "iopub.status.busy": "2022-03-25T16:49:10.082837Z",
     "iopub.status.idle": "2022-03-25T16:49:10.108470Z",
     "shell.execute_reply": "2022-03-25T16:49:10.109013Z",
     "shell.execute_reply.started": "2022-03-25T16:28:56.719405Z"
    },
    "papermill": {
     "duration": 0.036441,
     "end_time": "2022-03-25T16:49:10.109218",
     "exception": false,
     "start_time": "2022-03-25T16:49:10.072777",
     "status": "completed"
    },
    "tags": []
   },
   "outputs": [
    {
     "data": {
      "text/html": [
       "<div>\n",
       "<style scoped>\n",
       "    .dataframe tbody tr th:only-of-type {\n",
       "        vertical-align: middle;\n",
       "    }\n",
       "\n",
       "    .dataframe tbody tr th {\n",
       "        vertical-align: top;\n",
       "    }\n",
       "\n",
       "    .dataframe thead th {\n",
       "        text-align: right;\n",
       "    }\n",
       "</style>\n",
       "<table border=\"1\" class=\"dataframe\">\n",
       "  <thead>\n",
       "    <tr style=\"text-align: right;\">\n",
       "      <th></th>\n",
       "      <th>Year</th>\n",
       "      <th>Rate in %</th>\n",
       "    </tr>\n",
       "  </thead>\n",
       "  <tbody>\n",
       "    <tr>\n",
       "      <th>0</th>\n",
       "      <td>1999</td>\n",
       "      <td>2.88</td>\n",
       "    </tr>\n",
       "    <tr>\n",
       "      <th>1</th>\n",
       "      <td>2000</td>\n",
       "      <td>2.86</td>\n",
       "    </tr>\n",
       "    <tr>\n",
       "      <th>2</th>\n",
       "      <td>2001</td>\n",
       "      <td>2.86</td>\n",
       "    </tr>\n",
       "    <tr>\n",
       "      <th>3</th>\n",
       "      <td>2002</td>\n",
       "      <td>2.90</td>\n",
       "    </tr>\n",
       "    <tr>\n",
       "      <th>4</th>\n",
       "      <td>2003</td>\n",
       "      <td>2.90</td>\n",
       "    </tr>\n",
       "    <tr>\n",
       "      <th>5</th>\n",
       "      <td>2004</td>\n",
       "      <td>2.87</td>\n",
       "    </tr>\n",
       "    <tr>\n",
       "      <th>6</th>\n",
       "      <td>2005</td>\n",
       "      <td>2.82</td>\n",
       "    </tr>\n",
       "    <tr>\n",
       "      <th>7</th>\n",
       "      <td>2006</td>\n",
       "      <td>2.71</td>\n",
       "    </tr>\n",
       "    <tr>\n",
       "      <th>8</th>\n",
       "      <td>2007</td>\n",
       "      <td>2.63</td>\n",
       "    </tr>\n",
       "    <tr>\n",
       "      <th>9</th>\n",
       "      <td>2008</td>\n",
       "      <td>2.60</td>\n",
       "    </tr>\n",
       "    <tr>\n",
       "      <th>10</th>\n",
       "      <td>2009</td>\n",
       "      <td>2.83</td>\n",
       "    </tr>\n",
       "    <tr>\n",
       "      <th>11</th>\n",
       "      <td>2010</td>\n",
       "      <td>2.86</td>\n",
       "    </tr>\n",
       "    <tr>\n",
       "      <th>12</th>\n",
       "      <td>2011</td>\n",
       "      <td>2.86</td>\n",
       "    </tr>\n",
       "    <tr>\n",
       "      <th>13</th>\n",
       "      <td>2012</td>\n",
       "      <td>2.86</td>\n",
       "    </tr>\n",
       "    <tr>\n",
       "      <th>14</th>\n",
       "      <td>2013</td>\n",
       "      <td>2.87</td>\n",
       "    </tr>\n",
       "    <tr>\n",
       "      <th>15</th>\n",
       "      <td>2014</td>\n",
       "      <td>2.82</td>\n",
       "    </tr>\n",
       "    <tr>\n",
       "      <th>16</th>\n",
       "      <td>2015</td>\n",
       "      <td>2.80</td>\n",
       "    </tr>\n",
       "    <tr>\n",
       "      <th>17</th>\n",
       "      <td>2016</td>\n",
       "      <td>2.76</td>\n",
       "    </tr>\n",
       "    <tr>\n",
       "      <th>18</th>\n",
       "      <td>2017</td>\n",
       "      <td>2.69</td>\n",
       "    </tr>\n",
       "    <tr>\n",
       "      <th>19</th>\n",
       "      <td>2018</td>\n",
       "      <td>2.64</td>\n",
       "    </tr>\n",
       "    <tr>\n",
       "      <th>20</th>\n",
       "      <td>2019</td>\n",
       "      <td>2.60</td>\n",
       "    </tr>\n",
       "    <tr>\n",
       "      <th>21</th>\n",
       "      <td>2020</td>\n",
       "      <td>2.98</td>\n",
       "    </tr>\n",
       "  </tbody>\n",
       "</table>\n",
       "</div>"
      ],
      "text/plain": [
       "    Year  Rate in %\n",
       "0   1999       2.88\n",
       "1   2000       2.86\n",
       "2   2001       2.86\n",
       "3   2002       2.90\n",
       "4   2003       2.90\n",
       "5   2004       2.87\n",
       "6   2005       2.82\n",
       "7   2006       2.71\n",
       "8   2007       2.63\n",
       "9   2008       2.60\n",
       "10  2009       2.83\n",
       "11  2010       2.86\n",
       "12  2011       2.86\n",
       "13  2012       2.86\n",
       "14  2013       2.87\n",
       "15  2014       2.82\n",
       "16  2015       2.80\n",
       "17  2016       2.76\n",
       "18  2017       2.69\n",
       "19  2018       2.64\n",
       "20  2019       2.60\n",
       "21  2020       2.98"
      ]
     },
     "execution_count": 4,
     "metadata": {},
     "output_type": "execute_result"
    }
   ],
   "source": [
    "year.head(23)"
   ]
  },
  {
   "cell_type": "code",
   "execution_count": 5,
   "id": "c506d2da",
   "metadata": {
    "execution": {
     "iopub.execute_input": "2022-03-25T16:49:10.127144Z",
     "iopub.status.busy": "2022-03-25T16:49:10.126083Z",
     "iopub.status.idle": "2022-03-25T16:49:10.571227Z",
     "shell.execute_reply": "2022-03-25T16:49:10.571762Z",
     "shell.execute_reply.started": "2022-03-25T16:28:57.019345Z"
    },
    "papermill": {
     "duration": 0.455969,
     "end_time": "2022-03-25T16:49:10.572001",
     "exception": false,
     "start_time": "2022-03-25T16:49:10.116032",
     "status": "completed"
    },
    "tags": []
   },
   "outputs": [
    {
     "data": {
      "image/png": "[encoded data removed]",
      "text/plain": [
       "<Figure size 576x576 with 1 Axes>"
      ]
     },
     "metadata": {
      "needs_background": "light"
     },
     "output_type": "display_data"
    }
   ],
   "source": [
    "#plotting the line graph\n",
    "plt.figure(figsize=(8,8))\n",
    "Year = [1999,2000,2001,2002,2003,2004,2005,2006,2007,2008,2009,2010,2011,2012,2013,2014,2015,2016,2017,2018,2019,2020]\n",
    "Rate = [2.88,2.86,2.86,2.9,2.9,2.87,2.82,2.71,2.63,2.6,2.83,2.86,2.86,2.86,2.87,2.82,2.8,2.76,2.69,2.64,2.6,2.98]\n",
    "plt.plot(Year, Rate, color='red', marker='o')\n",
    "plt.title(\"Unemployment rate in Kenya from 1999 to 2020\",fontsize=14)\n",
    "plt.xlabel('Year',fontsize=14)\n",
    "plt.ylabel('Unemployment Rate',fontsize=14)\n",
    "plt.grid(True)\n",
    "plt.style.use('seaborn-white')\n",
    "\n"
   ]
  }
 ],
 "metadata": {
  "kernelspec": {
   "display_name": "Python 3",
   "language": "python",
   "name": "python3"
  },
  "language_info": {
   "codemirror_mode": {
    "name": "ipython",
    "version": 3
   },
   "file_extension": ".py",
   "mimetype": "text/x-python",
   "name": "python",
   "nbconvert_exporter": "python",
   "pygments_lexer": "ipython3",
   "version": "3.7.10"
  },
  "papermill": {
   "default_parameters": {},
   "duration": 14.188015,
   "end_time": "2022-03-25T16:49:11.492322",
   "environment_variables": {},
   "exception": null,
   "input_path": "__notebook__.ipynb",
   "output_path": "__notebook__.ipynb",
   "parameters": {},
   "start_time": "2022-03-25T16:48:57.304307",
   "version": "2.3.3"
  }
 },
 "nbformat": 4,
 "nbformat_minor": 5
}
